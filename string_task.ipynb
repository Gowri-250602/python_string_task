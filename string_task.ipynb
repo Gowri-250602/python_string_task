{
 "cells": [
  {
   "cell_type": "code",
   "execution_count": null,
   "id": "169709f7-39b2-4497-ab0c-2317d6d809aa",
   "metadata": {},
   "outputs": [],
   "source": [
    "\"\"\"`s = \"HelloWorld\"`\n",
    "\n",
    "1. Insert the substring `\"Python\"` at the 6th index of the string .  \n",
    "2. Remove the substring `\"World\"` from the string `s`.  \n",
    "3. Append the substring `\"2024\"` to the end of the string `s`.  \n",
    "4. Remove the character at the 2nd index of the string `s`.  \n",
    "5. Concatenate the string `t = \"Programming\"` to the string `s`.\"\"\""
   ]
  },
  {
   "cell_type": "code",
   "execution_count": 22,
   "id": "3829749f-a476-4c65-948d-ade3f8ccd924",
   "metadata": {},
   "outputs": [
    {
     "name": "stdout",
     "output_type": "stream",
     "text": [
      "HelloW\n",
      "orld\n",
      "HelloWPythonorld\n"
     ]
    }
   ],
   "source": [
    "#Insert the substring `\"Python\"` at the 6th index of the string . \n",
    "s = \"HelloWorld\"\n",
    "s1=s[0:6]\n",
    "print(s1)\n",
    "s2=s[6:]\n",
    "print(s2)\n",
    "print(s1+\"Python\"+s2)\n",
    "\n",
    "\n"
   ]
  },
  {
   "cell_type": "code",
   "execution_count": 24,
   "id": "e3aac131-6404-413a-83ba-5e765a9e407e",
   "metadata": {},
   "outputs": [
    {
     "data": {
      "text/plain": [
       "'Hello'"
      ]
     },
     "execution_count": 24,
     "metadata": {},
     "output_type": "execute_result"
    }
   ],
   "source": [
    "#Remove the substring `\"World\"` from the string `s`\n",
    "s = \"HelloWorld\"\n",
    "s1=s[0:5]\n",
    "s1"
   ]
  },
  {
   "cell_type": "code",
   "execution_count": 25,
   "id": "2c2f6886-8083-48bd-ad3b-a95d2ed84d09",
   "metadata": {},
   "outputs": [
    {
     "name": "stdout",
     "output_type": "stream",
     "text": [
      "HelloWorld2024\n"
     ]
    }
   ],
   "source": [
    "#Append the substring `\"2024\"` to the end of the string `s`.\n",
    "s = \"HelloWorld\"\n",
    "print(s+\"2024\")"
   ]
  },
  {
   "cell_type": "code",
   "execution_count": 28,
   "id": "1e55390e-9ad6-4565-9429-1533a2a9d593",
   "metadata": {},
   "outputs": [
    {
     "name": "stdout",
     "output_type": "stream",
     "text": [
      "HeloWorld\n"
     ]
    }
   ],
   "source": [
    "#Remove the character at the 2nd index of the string `s`.  \n",
    "s = \"HelloWorld\"\n",
    "s1=s[0:2]\n",
    "s2=s[3:]\n",
    "print(s1+s2)\n"
   ]
  },
  {
   "cell_type": "code",
   "execution_count": 39,
   "id": "cdb0bb42-49ca-4337-bcd0-10a7bdb6e5f6",
   "metadata": {},
   "outputs": [
    {
     "name": "stdout",
     "output_type": "stream",
     "text": [
      " HeloWorld\n"
     ]
    }
   ],
   "source": [
    "s = \"HelloWorld\"\n",
    "s1=\" \"\n",
    "for i in range(len(s)):\n",
    "    if i!=2:\n",
    "        s1+=s[i]\n",
    "print(s1)"
   ]
  },
  {
   "cell_type": "code",
   "execution_count": 41,
   "id": "da5b0673-b88e-4caa-9438-43c5e4994c0a",
   "metadata": {},
   "outputs": [
    {
     "name": "stdout",
     "output_type": "stream",
     "text": [
      "HelloWorld Programming\n"
     ]
    }
   ],
   "source": [
    "#Concatenate the string `t = \"Programming\"` to the string `s`.\"\"\"\n",
    "s = \"HelloWorld\"\n",
    "t = \"Programming\"\n",
    "print(s+\" \"+t)"
   ]
  }
 ],
 "metadata": {
  "kernelspec": {
   "display_name": "Python 3 (ipykernel)",
   "language": "python",
   "name": "python3"
  },
  "language_info": {
   "codemirror_mode": {
    "name": "ipython",
    "version": 3
   },
   "file_extension": ".py",
   "mimetype": "text/x-python",
   "name": "python",
   "nbconvert_exporter": "python",
   "pygments_lexer": "ipython3",
   "version": "3.12.7"
  }
 },
 "nbformat": 4,
 "nbformat_minor": 5
}
